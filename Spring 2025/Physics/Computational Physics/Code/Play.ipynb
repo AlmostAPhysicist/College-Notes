{
 "cells": [
  {
   "cell_type": "code",
   "execution_count": 5,
   "metadata": {},
   "outputs": [
    {
     "name": "stdout",
     "output_type": "stream",
     "text": [
      "(0.33333333333333337, 3.700743415417189e-15)\n"
     ]
    }
   ],
   "source": [
    "from scipy.integrate import quad\n",
    "\n",
    "print(quad(lambda x: x**2, 0, 1))"
   ]
  },
  {
   "cell_type": "code",
   "execution_count": 7,
   "metadata": {},
   "outputs": [
    {
     "name": "stdout",
     "output_type": "stream",
     "text": [
      "Result: 0.9999999999999999\n",
      "Error: 1.1102230246251564e-14\n"
     ]
    }
   ],
   "source": [
    "import scipy.integrate as integrate\n",
    "\n",
    "# Define the multivariable function\n",
    "def integrand(x, y):\n",
    "    return x * y\n",
    "\n",
    "# Define the limits of integration for each variable\n",
    "x_limits = [0, 1]\n",
    "y_limits = [0, 2]\n",
    "\n",
    "# Perform the integration\n",
    "result, error = integrate.nquad(integrand, [x_limits, y_limits])\n",
    "\n",
    "print(\"Result:\", result)\n",
    "print(\"Error:\", error)"
   ]
  },
  {
   "cell_type": "code",
   "execution_count": null,
   "metadata": {},
   "outputs": [],
   "source": []
  }
 ],
 "metadata": {
  "kernelspec": {
   "display_name": "CompPhysics",
   "language": "python",
   "name": "python3"
  },
  "language_info": {
   "codemirror_mode": {
    "name": "ipython",
    "version": 3
   },
   "file_extension": ".py",
   "mimetype": "text/x-python",
   "name": "python",
   "nbconvert_exporter": "python",
   "pygments_lexer": "ipython3",
   "version": "3.12.8"
  }
 },
 "nbformat": 4,
 "nbformat_minor": 2
}
